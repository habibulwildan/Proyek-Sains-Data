{
  "nbformat": 4,
  "nbformat_minor": 0,
  "metadata": {
    "colab": {
      "provenance": []
    },
    "kernelspec": {
      "name": "python3",
      "display_name": "Python 3"
    },
    "language_info": {
      "name": "python"
    }
  },
  "cells": [
    {
      "cell_type": "code",
      "source": [
        "import pandas as pd\n",
        "\n",
        "# Membaca file CSV dan mengubahnya menjadi kerangka data (dataframe)\n",
        "# Ganti 'file.csv' dengan path file CSV yang ingin Anda baca\n",
        "df = pd.read_csv('/content/cobak.csv')\n",
        "\n",
        "# Menampilkan 5 baris pertama dari dataframe\n",
        "print(df.head())\n"
      ],
      "metadata": {
        "colab": {
          "base_uri": "https://localhost:8080/"
        },
        "id": "ec57uFcQdGEf",
        "outputId": "2aaef996-1bcc-4166-a417-2c7db2caa407"
      },
      "execution_count": 1,
      "outputs": [
        {
          "output_type": "stream",
          "name": "stdout",
          "text": [
            "   No           Nama     Merek  Stok\n",
            "0   1           Odol  Ciptaden    20\n",
            "1   2           Odol    Kodomo    30\n",
            "2   3          Sabun       giv    10\n",
            "3   4          Sampo   sunslik    20\n",
            "4   5  Sambun Gobrot     biore    50\n"
          ]
        }
      ]
    },
    {
      "cell_type": "code",
      "source": [
        "#Target encoding\n",
        "import pandas as pd\n",
        "df['Target'] = [1,0,1,0,1,0,1]\n",
        "mean_target = df.groupby('Merek')['Stok'].mean()\n",
        "df['Merek'] = df['Merek'].map(mean_target)\n",
        "print(df)"
      ],
      "metadata": {
        "colab": {
          "base_uri": "https://localhost:8080/"
        },
        "id": "pYgm9bUddHfk",
        "outputId": "d6328905-a7e1-4e6a-9011-406df87fa061"
      },
      "execution_count": 2,
      "outputs": [
        {
          "output_type": "stream",
          "name": "stdout",
          "text": [
            "   No           Nama  Merek  Stok  Target\n",
            "0   1           Odol   20.0    20       1\n",
            "1   2           Odol   30.0    30       0\n",
            "2   3          Sabun   10.0    10       1\n",
            "3   4          Sampo   20.0    20       0\n",
            "4   5  Sambun Gobrot   50.0    50       1\n",
            "5   6          Sampo   20.0    20       0\n",
            "6   7          Sabon   10.0    10       1\n"
          ]
        }
      ]
    },
    {
      "cell_type": "code",
      "source": [
        "datakategori= df['Merek']\n",
        "print(datakategori)"
      ],
      "metadata": {
        "colab": {
          "base_uri": "https://localhost:8080/"
        },
        "id": "30IXvEknejx-",
        "outputId": "fe89848a-d131-4de8-db03-0a9d04a22895"
      },
      "execution_count": 6,
      "outputs": [
        {
          "output_type": "stream",
          "name": "stdout",
          "text": [
            "0    1\n",
            "1    2\n",
            "2    0\n",
            "3    1\n",
            "4    3\n",
            "5    1\n",
            "6    0\n",
            "Name: Merek, dtype: int64\n"
          ]
        }
      ]
    },
    {
      "cell_type": "code",
      "source": [
        "#label encoding\n",
        "from sklearn.preprocessing import LabelEncoder\n",
        "label_encoder = LabelEncoder()\n",
        "numeric_data = label_encoder.fit_transform(datakategori)\n",
        "print(numeric_data)"
      ],
      "metadata": {
        "colab": {
          "base_uri": "https://localhost:8080/"
        },
        "id": "qEGRSSIod9hF",
        "outputId": "c5415d42-7023-40be-c9a3-fc4335b665e3"
      },
      "execution_count": 7,
      "outputs": [
        {
          "output_type": "stream",
          "name": "stdout",
          "text": [
            "[1 2 0 1 3 1 0]\n"
          ]
        }
      ]
    },
    {
      "cell_type": "code",
      "source": [],
      "metadata": {
        "id": "hyGeAHQcebNy"
      },
      "execution_count": null,
      "outputs": []
    }
  ]
}